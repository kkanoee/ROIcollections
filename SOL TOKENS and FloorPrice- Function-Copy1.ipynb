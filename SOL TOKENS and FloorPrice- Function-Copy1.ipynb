{
 "cells": [
  {
   "cell_type": "code",
   "execution_count": null,
   "id": "598f1511",
   "metadata": {},
   "outputs": [],
   "source": [
    "import pandas as pd\n",
    "\n",
    "df = pd.read_excel (r'C:\\Users\\kkanoee\\Documents\\Python Scripts\\TablePython.xlsx') #place \"r\" before the path string to address special character, such as '\\'. Don't forget to put the file name at the end of the path + '.xlsx'\n",
    "print (df)\n",
    "df.iat[0,1]\n",
    "\n",
    "for ind in df.index:\n",
    "    print(df['CollectionList'][ind], df['TokenList'][ind], df['Tokenperday'][ind])\n",
    "    print('next')\n",
    "    \n",
    "    apicall='https://api-mainnet.magiceden.dev/v2/collections/'+df['CollectionList'][ind]+'/stats/'\n",
    "    print(apicall)\n",
    "    "
   ]
  },
  {
   "cell_type": "code",
   "execution_count": null,
   "id": "861adff5",
   "metadata": {},
   "outputs": [],
   "source": [
    "from requests import Request, Session\n",
    "from requests.exceptions import ConnectionError, Timeout, TooManyRedirects\n",
    "import json\n",
    "\n",
    "\n",
    "column_names = [\"symbol\", \"floorPrice\", \"listedCount\", \"avgPrice24hr\", \"volumeAll\"]\n",
    "dfAfp = pd.DataFrame(columns = column_names)\n",
    "\n",
    "column_token = ['timestamp', 'error_code', 'error_message','elapsed', 'credit_count', 'notice','id', 'name', 'symbol','slug', 'num_market_pairs', 'date_added','tags', 'max_supply', 'circulating_supply','total_supply', 'id', 'name','symbol', 'platform_slug', 'platform_token_address','is_active', 'cmc_rank', 'is_fiat','self_reported_circulating_supply', 'self_reported_market_cap', 'tbl_ratio','last_updated', 'usd_price', 'usd_volume_24h','usd_volume_change_24h', 'usd_percent_change_1h', 'usd_percent_change_24h','usd_percent_change_7d', 'usd_percent_change_30d', 'usd_percent_change_60d','usd_percent_change_90d', 'usd_marketcap', 'usd_marketcap_dominance','usd_full_diluted_marketcap', 'usd_tvl', 'usd_last_updated', 'token_per_day', 'usd_per_day']\n",
    "dfA = pd.DataFrame(columns = column_token)\n",
    "dfA = dfA.reset_index(drop=True)\n",
    "\n",
    "for ind in df.index:\n",
    "    print(df['CollectionList'][ind], df['TokenList'][ind], df['Tokenperday'][ind])\n",
    "    print('next')\n",
    "\n",
    "    #Collection -------------------------------------------------------------\n",
    "    \n",
    "    apicall='https://api-mainnet.magiceden.dev/v2/collections/'+df['CollectionList'][ind]+'/stats/'\n",
    "    \n",
    "    url = apicall\n",
    "    headers = {\n",
    "      'Accepts': 'application/json',\n",
    "      'X-CMC_PRO_API_KEY': '0fbe4952-0675-4f13-8274-fb02dbd99dbf',\n",
    "    }\n",
    "\n",
    "    session = Session()\n",
    "    session.headers.update(headers)\n",
    "\n",
    "    try:\n",
    "      response = session.get(url)\n",
    "      FloorPrice = json.loads(response.text)\n",
    "      #print(FloorPrice)\n",
    "    except (ConnectionError, Timeout, TooManyRedirects) as e:\n",
    "      print(e)\n",
    "\n",
    "    df1fp = pd.json_normalize(FloorPrice)\n",
    "    dfAfp = pd.concat([dfAfp, df1fp], ignore_index=True, sort=False)\n",
    "    \n",
    "    #Tokens -----------------------------------------------------------------\n",
    "    \n",
    "    url = 'https://pro-api.coinmarketcap.com/v1/cryptocurrency/quotes/latest'\n",
    "    parameters = {\n",
    "      'convert':'USD',\n",
    "    'symbol':df['TokenList'][ind]\n",
    "    }\n",
    "    headers = {\n",
    "      'Accepts': 'application/json',\n",
    "      'X-CMC_PRO_API_KEY': '0fbe4952-0675-4f13-8274-fb02dbd99dbf',\n",
    "    }\n",
    "\n",
    "    session = Session()\n",
    "    session.headers.update(headers)\n",
    "\n",
    "    try:\n",
    "      response = session.get(url, params=parameters)\n",
    "      Token = json.loads(response.text)\n",
    "      #print(Token)\n",
    "    except (ConnectionError, Timeout, TooManyRedirects) as e:\n",
    "      print(e)\n",
    "    \n",
    "    df1 = pd.json_normalize(Token)\n",
    "    df1.columns = ['timestamp', 'error_code', 'error_message','elapsed', 'credit_count', 'notice','id', 'name', 'symbol','slug', 'num_market_pairs', 'date_added','tags', 'max_supply', 'circulating_supply','total_supply', 'id', 'name','symbol', 'platform_slug', 'platform_token_address','is_active', 'cmc_rank', 'is_fiat','self_reported_circulating_supply', 'self_reported_market_cap', 'tbl_ratio','last_updated', 'usd_price', 'usd_volume_24h','usd_volume_change_24h', 'usd_percent_change_1h', 'usd_percent_change_24h','usd_percent_change_7d', 'usd_percent_change_30d', 'usd_percent_change_60d','usd_percent_change_90d', 'usd_marketcap', 'usd_marketcap_dominance','usd_full_diluted_marketcap', 'usd_tvl', 'usd_last_updated']\n",
    "    df1.loc[0,'token_per_day']=df['Tokenperday'][ind]\n",
    "    df1['usd_per_day']=df1['usd_price']*df1['token_per_day']\n",
    "    \n",
    "    df1.reset_index(inplace=True, drop=True)\n",
    "    dfA.reset_index(inplace=True, drop=True)\n",
    "    dfA = pd.concat([dfA, df1], ignore_index=True, sort=False)\n"
   ]
  },
  {
   "cell_type": "code",
   "execution_count": null,
   "id": "cfc9f305",
   "metadata": {},
   "outputs": [],
   "source": [
    "dfA"
   ]
  },
  {
   "cell_type": "code",
   "execution_count": null,
   "id": "5afdb702",
   "metadata": {},
   "outputs": [],
   "source": [
    "\n",
    "# this let us see all columns\n",
    "\n",
    "pd.set_option('display.max_columns', None)\n",
    "pd.set_option('display.float_format', lambda x: '%.2f' % x)\n",
    "\n",
    "# Correct ME values\n",
    "\n",
    "dfAfp2 = dfAfp\n",
    "dfAfp2.floorPrice = dfAfp.floorPrice/1000000000\n",
    "dfAfp2.avgPrice24hr = dfAfp.avgPrice24hr/1000000000\n",
    "dfAfp2.volumeAll = dfAfp.volumeAll/1000000000\n",
    "dfAfp2"
   ]
  },
  {
   "cell_type": "code",
   "execution_count": null,
   "id": "5522e629",
   "metadata": {},
   "outputs": [],
   "source": [
    "\n",
    "# CALL SOL and grab its price\n",
    "\n",
    "url = 'https://pro-api.coinmarketcap.com/v1/cryptocurrency/quotes/latest'\n",
    "parameters = {\n",
    "  'convert':'USD',\n",
    "    'symbol':'SOL'\n",
    "}\n",
    "headers = {\n",
    "  'Accepts': 'application/json',\n",
    "  'X-CMC_PRO_API_KEY': '0fbe4952-0675-4f13-8274-fb02dbd99dbf',\n",
    "}\n",
    "\n",
    "session = Session()\n",
    "session.headers.update(headers)\n",
    "\n",
    "try:\n",
    "  response = session.get(url, params=parameters)\n",
    "  SOL = json.loads(response.text)\n",
    "  #print(SOL)\n",
    "except (ConnectionError, Timeout, TooManyRedirects) as e:\n",
    "  print(e)\n",
    "\n",
    "df0 = pd.json_normalize(SOL)\n",
    "df0['data.SOL.quote.USD.price']\n",
    "\n",
    "SOLPRICE = df0.iat[0,24]\n",
    "\n",
    "SOLPRICE\n"
   ]
  },
  {
   "cell_type": "code",
   "execution_count": null,
   "id": "8081e529",
   "metadata": {},
   "outputs": [],
   "source": [
    "#CONCAT BOTH TOKENS PRICE AND FLOOR PRICE\n",
    "\n",
    "dfTABLE = dfA\n",
    "dfTABLE['Symbol'] = dfAfp.symbol\n",
    "dfTABLE['floorPrice'] = dfAfp.floorPrice\n",
    "dfTABLE['floorPriceUSD'] = dfAfp[\"floorPrice\"]*SOLPRICE\n",
    "dfTABLE['ROI days']=dfTABLE['floorPriceUSD']/dfTABLE['usd_per_day']\n",
    "\n",
    "\n",
    "dfTABLE\n",
    "\n"
   ]
  },
  {
   "cell_type": "code",
   "execution_count": 93,
   "id": "9f7789c3",
   "metadata": {},
   "outputs": [],
   "source": [
    "import os   \n",
    "\n",
    "if not os.path.isfile(r'C:\\Users\\kkanoee\\Documents\\Python Scripts\\SOLTOKENS.csv'):\n",
    "    dfA.to_csv(r'C:\\Users\\kkanoee\\Documents\\Python Scripts\\SOLTOKENS.csv', header='column_names')\n",
    "else: dfA.to_csv(r'C:\\Users\\kkanoee\\Documents\\Python Scripts\\SOLTOKENS.csv', mode='a', header=False)"
   ]
  },
  {
   "cell_type": "code",
   "execution_count": 94,
   "id": "21b10a43",
   "metadata": {},
   "outputs": [],
   "source": [
    "import seaborn as sns\n",
    "import matplotlib.pyplot as plt"
   ]
  },
  {
   "cell_type": "code",
   "execution_count": 95,
   "id": "8bf9e66b",
   "metadata": {},
   "outputs": [
    {
     "data": {
      "text/plain": [
       "<seaborn.axisgrid.FacetGrid at 0x1d7ae4d6ee0>"
      ]
     },
     "execution_count": 95,
     "metadata": {},
     "output_type": "execute_result"
    },
    {
     "data": {
      "image/png": "[encoded data removed]",
      "text/plain": [
       "<Figure size 481.625x360 with 1 Axes>"
      ]
     },
     "metadata": {
      "needs_background": "light"
     },
     "output_type": "display_data"
    }
   ],
   "source": [
    "splot = sns.catplot(x='ROI days',\n",
    "                    y='floorPrice',\n",
    "                    hue='Symbol',\n",
    "                    data=dfTABLE.round(),\n",
    "                    kind='point',\n",
    "                    fit_reg=False,\n",
    "                    aspect=1)\n",
    "\n",
    "splot\n",
    "#splot.set(xscale=\"log\")"
   ]
  },
  {
   "cell_type": "code",
   "execution_count": 96,
   "id": "cc78d2b3",
   "metadata": {},
   "outputs": [],
   "source": [
    "import os   \n",
    "\n",
    "if not os.path.isfile(r'C:\\Users\\kkanoee\\Documents\\Python Scripts\\SOLTOKENS.xlsx'):\n",
    "    dfA.to_excel(r'C:\\Users\\kkanoee\\Documents\\Python Scripts\\SOLTOKENS.xlsx', header='column_names')\n",
    "else: dfA.to_excel(r'C:\\Users\\kkanoee\\Documents\\Python Scripts\\SOLTOKENS.xslx', mode='a', header=False)"
   ]
  },
  {
   "cell_type": "code",
   "execution_count": null,
   "id": "c0a0a472",
   "metadata": {},
   "outputs": [],
   "source": []
  },
  {
   "cell_type": "code",
   "execution_count": null,
   "id": "78dac41c",
   "metadata": {},
   "outputs": [],
   "source": []
  }
 ],
 "metadata": {
  "kernelspec": {
   "display_name": "Python 3 (ipykernel)",
   "language": "python",
   "name": "python3"
  },
  "language_info": {
   "codemirror_mode": {
    "name": "ipython",
    "version": 3
   },
   "file_extension": ".py",
   "mimetype": "text/x-python",
   "name": "python",
   "nbconvert_exporter": "python",
   "pygments_lexer": "ipython3",
   "version": "3.9.12"
  }
 },
 "nbformat": 4,
 "nbformat_minor": 5
}
